{
 "cells": [
  {
   "cell_type": "markdown",
   "metadata": {},
   "source": [
    "# Django Configuration and setup #\n",
    "I used the Anaconda base environment and installed Django creating a smartnotes project with ` django-admi startproject smartnotes ` n , an app within (webpage) called home and the functions of that app in the views.py file which is created with the ` django-admin startapp [app] `\n",
    "\n",
    "To start the Django server for testing use ` python manage.py runserver `"
   ]
  },
  {
   "cell_type": "markdown",
   "metadata": {},
   "source": [
    "## The path ##\n",
    "<img src='assets/ThePath.jpg'>"
   ]
  },
  {
   "cell_type": "markdown",
   "metadata": {},
   "source": [
    "<img src='assets/MVTFramework.jpg'>"
   ]
  },
  {
   "cell_type": "markdown",
   "metadata": {},
   "source": [
    "The Model View Template.  The model layer handles the data and how it's stored.  The view is where we employ the functions to work with the data and the template is how it will render in HTML.  Django Template Language is what the template employs as code in the view layer is passed down to the template layer and that's what makes the html in a manner similar to a JavaScript insertion.  DTL allows for rich HTML formatting without a lot of HTML coding. "
   ]
  },
  {
   "cell_type": "markdown",
   "metadata": {},
   "source": [
    "## Migrations ##\n",
    "To keep databases in sync changes are maintained in a `migrations` folder and a `python manage.py migrate` command will synchronize these in the database. \n",
    "\n",
    "<img src='assets/Migrations.jpg'>"
   ]
  },
  {
   "cell_type": "markdown",
   "metadata": {},
   "source": [
    "# The Django Admin Page #"
   ]
  },
  {
   "cell_type": "markdown",
   "metadata": {},
   "source": [
    "` /admin ` at the localhost URL for the python server will take you to the Django Admin page.\n",
    "\n",
    "First thing is to create a super user with the `python manage.py createsuperuser` command. \n",
    "\n",
    "With the user you can use the built in admin page to configure users and group permissions to create and delete accounts, contents or modify privileges.  The `@login_required(login_url='/admin')` appearing in the views.py file will prevent following functions from running unless logged in with correct privilege and will redirect to the login URL supplied.  One line to secure code with a robust authentication system including encrypted passwords. "
   ]
  },
  {
   "cell_type": "markdown",
   "metadata": {},
   "source": [
    "# Django Object Relational Mapping System #"
   ]
  },
  {
   "cell_type": "markdown",
   "metadata": {},
   "source": [
    "Class models get written then migrated into database tables where the class defines the table and the class attributes are columns in the database table. \n",
    "\n",
    "<img src=assets/ClassMapping.jpg>"
   ]
  },
  {
   "cell_type": "markdown",
   "metadata": {},
   "source": [
    "This system is particularly useful for those who wish to use Python to script web applications using SQL databases.\n",
    "\n",
    "For instance to create the database for a note taking app we'd want a database called *Notes* and the code that makes lives in the Django app folders' `models.py` file as: \n",
    "```\n",
    "class Notes(models.Model):\n",
    "    title = models.CharField(max_length=200)\n",
    "    text = models.TextField()\n",
    "    created = models.DateTimeField(auto_now_add=True)\n",
    "\n",
    "```\n",
    "\n",
    "And then a run of the `python manage.py makemigrations` would convert that to a script that upon next migration will create database table.  Then do `python manage.py migrate\n",
    "\n",
    "When an app is initiated with django-admin startapp a folder is created and populated with other folders and files including an `admin.py` folder in which you must indicate where the file of models you wish to use are.  The models.py folder has the classes you wish to use in your app. `"
   ]
  },
  {
   "cell_type": "markdown",
   "metadata": {},
   "source": [
    "## Django Shell ##\n",
    "\n",
    "You can use this tool to check the contents of a database `python manage.py shell`  it constructs a command line interface with an awareness of the project and database so you can directly query and even add to the database from the command line. \n",
    "`Notes.objects.all()` will return a list of all the objects in the database called Notes.  Other methods in the database objects available will filter including or excluding content. "
   ]
  },
  {
   "cell_type": "markdown",
   "metadata": {},
   "source": [
    "# Base Template #\n",
    "Code you want on all the rendered HTML pages should appear in a base template rather than adding it to each template that generates a specific page for your site.  Django is accustomed to finding such a template (called `base.html`) in a template folder under a static folder, where' you'd also put CSS and other assets to be made available to all your rendered pages."
   ]
  },
  {
   "cell_type": "markdown",
   "metadata": {},
   "source": [
    "Here is an example base.html template:\n",
    "```\n",
    "{% load static %}\n",
    "<html>\n",
    "    <head>\n",
    "        <link rel=\"stylesheet\" type=\"text/css\" href=\"{% static 'css/style.css' %}\" />\n",
    "    </head>\n",
    "\n",
    "    <body>\n",
    "        {% block content %}\n",
    "        {% endblock %}\n",
    "    </body>\n",
    "</html>\n",
    "```\n",
    "The assumption here is that there's a stylesheet named style.css in a css folder under static and that we desire an injectable object called `content` to which we'll direct the other templates. Those are pointed here with \n",
    "`{% extends \"base.html\" %}` loaders at the top of each other template. \n",
    "\n",
    "It's also important to add the (in this case `static`) folder to the list in the `settings.py` folder where there's a premade list `TEMPLATES` with a sublist for `DIRS` that comes empty. This would be modified as below: "
   ]
  },
  {
   "cell_type": "markdown",
   "metadata": {},
   "source": [
    "```\n",
    "TEMPLATES = [\n",
    "    {\n",
    "        'BACKEND': 'django.template.backends.django.DjangoTemplates',\n",
    "        'DIRS': [\n",
    "            BASE_DIR / 'static/templates',\n",
    "        ],\n",
    "        'APP_DIRS': True,\n",
    "        'OPTIONS': {\n",
    "            'context_processors': [\n",
    "                'django.template.context_processors.debug',\n",
    "                'django.template.context_processors.request',\n",
    "                'django.contrib.auth.context_processors.auth',\n",
    "                'django.contrib.messages.context_processors.messages',\n",
    "            ],\n",
    "        },\n",
    "    },\n",
    "]\n",
    "```"
   ]
  },
  {
   "cell_type": "markdown",
   "metadata": {},
   "source": [
    "So a template that will leverage a base template already configured and just extend other elements of content as well would be coded as: \n",
    "```\n",
    "{% extends \"base.html\" %}\n",
    "\n",
    "{% block content %}\n",
    "    <h1>These are the notes:</h1>\n",
    "\n",
    "    <ul> \n",
    "        {% for note in notes %}\n",
    "            <li class=\"note-li\">{{note.title}}</li>\n",
    "        {% endfor %}\n",
    "    </ul>\n",
    "{% endblock %}\n",
    "```\n",
    "\n",
    "You will add page specifice CSS to each page's template and CSS that is for the whole site would be on the `base.html` template. \n"
   ]
  },
  {
   "cell_type": "markdown",
   "metadata": {},
   "source": [
    "# **C**reate **R**etrieve **U**pdate **D**elete #\n",
    "\n",
    "The CRUD refers to the minimal operations that a model should support.  This involves importing the addtional methods such as CreateView being imported and functions build in the `view.py` and the URL updated in the `urls.py` files. Finally the HTML elements you'll want on the page rendered as part of each operation needs to be created in the `templates` folder.\n",
    "\n",
    "For creating content you'll likely want a form.  There's a nuance in Django to prevent improper form submission by requiring a token, called a cross site request forgery token,  with each form to allow Django to ensure the right form is being acted upon. Here's a sample code indicating the call for a token in the action part of the form:\n",
    "```\n",
    "<form action=\"{% url 'notes.new' %}\" method='POST'>{% csrf_token %}\n",
    "    {{ form }}\n",
    "    <button type=\"submit\" class=\"btn btn-primary my-5\">Submit</button>\n",
    "```"
   ]
  },
  {
   "cell_type": "markdown",
   "metadata": {},
   "source": [
    "The token is unique to the browser session so even hijacked credentials can't use another browser to intercept the form. "
   ]
  },
  {
   "cell_type": "markdown",
   "metadata": {},
   "source": [
    "<img src='assets/CSRF01.jpg'>\n",
    "<img src='assets/CSRF02.jpg'>\n",
    "<img src='assets/CSRF03.jpg'>"
   ]
  },
  {
   "cell_type": "markdown",
   "metadata": {},
   "source": [
    "# Model Forms #"
   ]
  },
  {
   "cell_type": "markdown",
   "metadata": {},
   "source": [
    "A form template that provides the post action (with the anti cross site token) and error handling appears below:\n",
    "```\n",
    "<form method='POST'>{% csrf_token %}\n",
    "    {{ form.as_p }}\n",
    "    <button type=\"submit\" class=\"btn btn-primary my-5\">Submit</button>\n",
    "    <a href=\"{% url 'notes.list' %}\" class=\"btn btn-secondary\">Cancel</a>\n",
    "</form>\n",
    "{% if form.errors %}\n",
    "<div class=\"alert alert-danger my-5\">\n",
    "    {{form.errors.title.as_text}}\n",
    "</div>\n",
    "{% endif %}\n",
    "```\n",
    "\n",
    "This would be paired with the form model `forms.py` : \n",
    "```\n",
    "from django import forms\n",
    "from django.core.exceptions import ValidationError\n",
    "from .models import Notes\n",
    "\n",
    "\n",
    "class NotesForm(forms.ModelForm):\n",
    "    class Meta:\n",
    "        model = Notes\n",
    "        fields = ('title', 'text')\n",
    "        widgets = {\n",
    "            'title': forms.TextInput(attrs={'class': 'form-control my-5'}),\n",
    "            'text': forms.Textarea(attrs={\"class\": \"form-control mb-5\"})\n",
    "        }\n",
    "        labels = {\n",
    "            'text': 'Write your thoughts here:'\n",
    "        }\n",
    "\n",
    "    def clean_title(self):\n",
    "        title = self.cleaned_data['title']\n",
    "        if 'Django' not in title:\n",
    "            raise ValidationError('We only accept notes about Django!')\n",
    "        return title\n",
    "```\n",
    "\n",
    "and the form view classes that provide the CRUD functions\n",
    "```\n",
    "rom typing import List\n",
    "from django.shortcuts import render\n",
    "from django.http import Http404\n",
    "from django.views.generic import CreateView, DetailView, ListView, UpdateView\n",
    "from django.views.generic.edit import DeleteView\n",
    "\n",
    "from .forms import NotesForm\n",
    "from .models import Notes\n",
    "\n",
    "class NotesDeleteView(DeleteView):\n",
    "    model = Notes\n",
    "    success_url = '/smart/notes'\n",
    "    template_name = \"notes/notes_delete.html\"\n",
    "class NotesUpdateView(UpdateView):\n",
    "    model = Notes\n",
    "    success_url = '/smart/notes'\n",
    "    form_class = NotesForm\n",
    "class NotesCreateView(CreateView):\n",
    "    model = Notes\n",
    "    success_url = '/smart/notes'\n",
    "    form_class = NotesForm\n",
    "\n",
    "class NotesListView(ListView):\n",
    "    model = Notes\n",
    "    context_object_name = \"notes\"\n",
    "    template_name = \"notes/notes_list.html\"\n",
    "\n",
    "class NotesDetailView(DetailView):\n",
    "    model = Notes\n",
    "    context_object_name = \"note\"\n",
    "```\n",
    "\n"
   ]
  },
  {
   "cell_type": "markdown",
   "metadata": {},
   "source": [
    "# Authentication #"
   ]
  }
 ],
 "metadata": {
  "kernelspec": {
   "display_name": "Python 3.9.12 ('base')",
   "language": "python",
   "name": "python3"
  },
  "language_info": {
   "name": "python",
   "version": "3.9.12"
  },
  "orig_nbformat": 4,
  "vscode": {
   "interpreter": {
    "hash": "ab77bfca710dbd4e854c082cb7fc525b19118a3250f99600f54a56902c93af79"
   }
  }
 },
 "nbformat": 4,
 "nbformat_minor": 2
}
